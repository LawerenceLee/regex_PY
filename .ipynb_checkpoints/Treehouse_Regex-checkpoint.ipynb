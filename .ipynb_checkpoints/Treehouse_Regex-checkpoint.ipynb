{
 "cells": [
  {
   "cell_type": "markdown",
   "metadata": {},
   "source": [
    "# How to use Regular Expressions"
   ]
  },
  {
   "cell_type": "markdown",
   "metadata": {},
   "source": [
    "***"
   ]
  },
  {
   "cell_type": "markdown",
   "metadata": {},
   "source": [
    "# Reading Files"
   ]
  },
  {
   "cell_type": "markdown",
   "metadata": {},
   "source": [
    "Documentation\n",
    "- __open() docs__\n",
    "- __file_object.close()__ docs\n",
    "- __file_object.read()__ docs\n",
    "- Regular Expressions: https://docs.python.org/3/library/re.html\n",
    "\n",
    "New Terms\n",
    "- __open()__ - Opens a file in Python. This won't contain the content of the file, it just points to it in memory.\n",
    "- __.read()__ - Reads the entire contents of the file object it's called on.\n",
    "- .__close()__ - Closes the file object it's called on. This clears the file out of Python's memory.\n",
    "- __r'string'__ - A raw string that makes writing regular expressions easier.\n",
    "- __re.match(pattern, text, flags)__ - Tries to match a pattern against the beginning of the text.\n",
    "- __re.search(pattern, text, flags)__ - Tries to match a pattern anywhere in the text. Returns the first match.\n",
    "\n",
    "A better way to read files\n",
    "\n",
    "If you don't know the size of a file, it's better to read it a chunk at a time and close it automatically. The following snippet does that:\n",
    "\n",
    "```python\n",
    "with open(\"some_file.txt\") as open_file:\n",
    "    data = open_file.read()\n",
    "```    \n",
    "The with causes the file to automatically close once the action inside of it finishes. And the action inside, the .read(), will finish when there are no more bytes to read from the file."
   ]
  },
  {
   "cell_type": "code",
   "execution_count": 1,
   "metadata": {},
   "outputs": [
    {
     "name": "stdout",
     "output_type": "stream",
     "text": [
      "Love, Kenneth\tkenneth@teamtreehouse.com\t(555) 555-5555\tTeacher, Treehouse\t@kennethlove\n",
      "McFarland, Dave\tdave@teamtreehouse.com\t(555) 555-5554\tTeacher, Treehouse\n",
      "Arthur, King\tking_arthur@camelot.co.uk\t\tKing, Camelot\n",
      "Österberg, Sven-Erik\tgovernor@norrbotten.co.se\t\tGovernor, Norrbotten\t@sverik\n",
      ", Tim\ttim@killerrabbit.com\t\tEnchanter, Killer Rabbit Cave\n",
      "Carson, Ryan\tryan@teamtreehouse.com\t(555) 555-5543\tCEO, Treehouse\t@ryancarson\n",
      "Doctor, The\tdoctor+companion@tardis.co.uk\t\tTime Lord, Gallifrey\n",
      "Exampleson, Example\tme@example.com\t555-555-5552\tExample, Example Co.\t@example\n",
      "Obama, Barack\tpresident.44@us.gov\t555 555-5551\tPresident, United States of America\t@potus44\n",
      "Chalkley, Andrew\tandrew@teamtreehouse.com\t(555) 555-5553\tTeacher, Treehouse\t@chalkers\n",
      "Vader, Darth\tdarth-vader@empire.gov\t(555) 555-4444\tSith Lord, Galactic Empire\t@darthvader\n",
      "Fernández de la Vega Sanz, María Teresa\tmtfvs@spain.gov\t\tFirst Deputy Prime Minister, Spanish Govt.\n"
     ]
    }
   ],
   "source": [
    "# address_book.py\n",
    "\n",
    "names_file = open(\"names.txt\", encoding=\"utf-8\")  # This line creates a pointer to the specified file.\n",
    "data = names_file.read()\n",
    "names_file.close()\n",
    "\n",
    "print(data)"
   ]
  },
  {
   "cell_type": "markdown",
   "metadata": {},
   "source": [
    "__Using re.match to search the beginnings of lines for matches :__"
   ]
  },
  {
   "cell_type": "code",
   "execution_count": 2,
   "metadata": {},
   "outputs": [
    {
     "name": "stdout",
     "output_type": "stream",
     "text": [
      "<_sre.SRE_Match object; span=(0, 4), match='Love'>\n",
      "None  <----- The reason we get None for this second one is because 're.match' only looks the first word of each line.\n"
     ]
    }
   ],
   "source": [
    "import re\n",
    "\n",
    "print(re.match(r'Love', data))  # r' ' lets python know that the txt is raw, that is, it does not contain things / to indicate spaces and the like.\n",
    "issue = \" <----- The reason we get None for this second one is because 're.match' only looks the first word of each line.\"\n",
    "print(re.match(r'Kenneth', data), issue)"
   ]
  },
  {
   "cell_type": "markdown",
   "metadata": {},
   "source": [
    "__Using re.search to search entire lines for matches :__"
   ]
  },
  {
   "cell_type": "code",
   "execution_count": 3,
   "metadata": {},
   "outputs": [
    {
     "name": "stdout",
     "output_type": "stream",
     "text": [
      "<_sre.SRE_Match object; span=(6, 13), match='Kenneth'>\n"
     ]
    }
   ],
   "source": [
    "# This how remedy the above problem. re.search looks at the entire line\n",
    "print(re.search(r'Kenneth', data))"
   ]
  },
  {
   "cell_type": "markdown",
   "metadata": {},
   "source": [
    "***"
   ]
  },
  {
   "cell_type": "markdown",
   "metadata": {},
   "source": [
    "# Escape Hatches"
   ]
  },
  {
   "cell_type": "markdown",
   "metadata": {},
   "source": [
    "New terms\n",
    "- __\\w__ - matches an Unicode word character. That's any letter, uppercase or lowercase, numbers, and the underscore character. In \"new-releases-204\", \\w would match each of the letters in \"new\" and \"releases\" and the numbers 2, 0, and 4. It wouldn't match the hyphens.\n",
    "- __\\W__ - is the opposite to \\w and matches anything that isn't an Unicode word character. In \"new-releases-204\", \\W would only match the hyphens.\n",
    "- __\\s__ - matches whitespace, so spaces, tabs, newlines, etc.\n",
    "- __\\S__ - matches everything that isn't whitespace.\n",
    "- __\\d__ - is how we match any number from 0 to 9\n",
    "- __\\D__ - matches anything that isn't a number.\n",
    "- __\\b__ - matches word boundaries. What's a word boundary? It's the edges of word, defined by white space or the edges of the string.\n",
    "- __\\B__ - matches anything that isn't the edges of a word.\n",
    "\n",
    "Two other escape characters that we didn't cover in the video are \\A and \\Z. These match the beginning and the end of the string, respectively. As we'll learn later, though, ^ and $ are more commonly used and usually what you actually want."
   ]
  },
  {
   "cell_type": "markdown",
   "metadata": {},
   "source": [
    "__Using \\d to find a phone number :__"
   ]
  },
  {
   "cell_type": "code",
   "execution_count": 4,
   "metadata": {},
   "outputs": [
    {
     "name": "stdout",
     "output_type": "stream",
     "text": [
      "<_sre.SRE_Match object; span=(46, 54), match='555-5555'>\n"
     ]
    }
   ],
   "source": [
    "print(re.search(r'\\d\\d\\d-\\d\\d\\d\\d', data))"
   ]
  },
  {
   "cell_type": "markdown",
   "metadata": {},
   "source": [
    "__Using escape characters '\\' to use parenthesis in order find the area code (555) :__"
   ]
  },
  {
   "cell_type": "code",
   "execution_count": 5,
   "metadata": {},
   "outputs": [
    {
     "name": "stdout",
     "output_type": "stream",
     "text": [
      "<_sre.SRE_Match object; span=(40, 54), match='(555) 555-5555'>\n"
     ]
    }
   ],
   "source": [
    "print(re.search(r'\\(\\d\\d\\d\\) \\d\\d\\d-\\d\\d\\d\\d', data))"
   ]
  },
  {
   "cell_type": "markdown",
   "metadata": {},
   "source": [
    "***"
   ]
  },
  {
   "cell_type": "markdown",
   "metadata": {},
   "source": [
    "# Counts\n",
    "New terms\n",
    "- __\\w{3}__ - matches any three word characters in a row.\n",
    "- __\\w{,3}__ - matches 0, 1, 2, or 3 word characters in a row.\n",
    "- __\\w{3,}__ - matches 3 or more word characters in a row. There's no upper limit.\n",
    "- __\\w{3, 5}__ - matches 3, 4, or 5 word characters in a row.\n",
    "- __\\w?__ - matches 0 or 1 word characters.\n",
    "- __\\w*__ - matches 0 or more word characters. Since there is no upper limit, this is, effectively, infinite word characters.\n",
    "- __\\w+__ - matches 1 or more word characters. Like *, it has no upper limit, but it has to occur at least once.\n",
    "- __.findall(patter, text, flags)__ - Finds all *non-overlapping* occurrences of the __pattern__ in the __text__."
   ]
  },
  {
   "cell_type": "markdown",
   "metadata": {},
   "source": [
    "__Using counts to find a word with any amount of letters :__"
   ]
  },
  {
   "cell_type": "code",
   "execution_count": 6,
   "metadata": {},
   "outputs": [
    {
     "name": "stdout",
     "output_type": "stream",
     "text": [
      "<_sre.SRE_Match object; span=(0, 13), match='Love, Kenneth'>\n"
     ]
    }
   ],
   "source": [
    "print(re.search(r'\\w+, \\w+', data))"
   ]
  },
  {
   "cell_type": "markdown",
   "metadata": {},
   "source": [
    "__Using curly brackets to specify occurances of a repeated character type :__"
   ]
  },
  {
   "cell_type": "code",
   "execution_count": 7,
   "metadata": {},
   "outputs": [
    {
     "name": "stdout",
     "output_type": "stream",
     "text": [
      "<_sre.SRE_Match object; span=(40, 54), match='(555) 555-5555'>\n"
     ]
    }
   ],
   "source": [
    "print(re.search(r'\\(\\d{3}\\) \\d{3}-\\d{4}', data))"
   ]
  },
  {
   "cell_type": "markdown",
   "metadata": {},
   "source": [
    "__Using ? to specify a character type is optional (either zero or one):__"
   ]
  },
  {
   "cell_type": "code",
   "execution_count": 8,
   "metadata": {},
   "outputs": [
    {
     "name": "stdout",
     "output_type": "stream",
     "text": [
      "<_sre.SRE_Match object; span=(40, 54), match='(555) 555-5555'>\n"
     ]
    }
   ],
   "source": [
    "print(re.search(r'\\(?\\d{3}\\)? \\d{3}-\\d{4}', data))"
   ]
  },
  {
   "cell_type": "markdown",
   "metadata": {},
   "source": [
    "__Using .findall() to find all occurances of the specified regex in data :__"
   ]
  },
  {
   "cell_type": "code",
   "execution_count": 9,
   "metadata": {},
   "outputs": [
    {
     "name": "stdout",
     "output_type": "stream",
     "text": [
      "['(555) 555-5555', '(555) 555-5554', '(555) 555-5543', '555 555-5551', '(555) 555-5553', '(555) 555-4444']\n"
     ]
    }
   ],
   "source": [
    "print(re.findall(r'\\(?\\d{3}\\)? \\d{3}-\\d{4}', data))"
   ]
  },
  {
   "cell_type": "code",
   "execution_count": 10,
   "metadata": {},
   "outputs": [
    {
     "name": "stdout",
     "output_type": "stream",
     "text": [
      "['(555) 555-5555', '(555) 555-5554', '(555) 555-5543', '555-555-5552', '555 555-5551', '(555) 555-5553', '(555) 555-4444']\n"
     ]
    }
   ],
   "source": [
    "print(re.findall(r'\\(?\\d{3}\\)?-?\\s?\\d{3}-\\d{4}', data))  # included optional spaces, and hyphens"
   ]
  },
  {
   "cell_type": "markdown",
   "metadata": {},
   "source": [
    "__Using * to specify a character type is optional (either zero or unlimited):__"
   ]
  },
  {
   "cell_type": "code",
   "execution_count": 11,
   "metadata": {},
   "outputs": [
    {
     "name": "stdout",
     "output_type": "stream",
     "text": [
      "['Love, Kenneth', 'Teacher, Treehouse', 'McFarland, Dave', 'Teacher, Treehouse', 'Arthur, King', 'King, Camelot', 'Österberg, Sven', 'Governor, Norrbotten', ', Tim', 'Enchanter, Killer', 'Carson, Ryan', 'CEO, Treehouse', 'Doctor, The', 'Lord, Gallifrey', 'Exampleson, Example', 'Example, Example', 'Obama, Barack', 'President, United', 'Chalkley, Andrew', 'Teacher, Treehouse', 'Vader, Darth', 'Lord, Galactic', 'Sanz, María', 'Minister, Spanish']\n"
     ]
    }
   ],
   "source": [
    "print(re.findall(r'\\w*, \\w+', data))"
   ]
  },
  {
   "cell_type": "markdown",
   "metadata": {},
   "source": [
    "## Code Challenge\n",
    "\n",
    "Create a function named find_words that takes a count and a string. Return a list of all of the words in the string that are count word characters long or longer."
   ]
  },
  {
   "cell_type": "code",
   "execution_count": 12,
   "metadata": {},
   "outputs": [
    {
     "data": {
      "text/plain": [
       "['baby', 'balloon']"
      ]
     },
     "execution_count": 12,
     "metadata": {},
     "output_type": "execute_result"
    }
   ],
   "source": [
    "import re\n",
    "\n",
    "# EXAMPLE:\n",
    "# >>> find_words(4, \"dog, cat, baby, balloon, me\")\n",
    "# ['baby', 'balloon']\n",
    "\n",
    "def find_words(count, string):\n",
    "    regex = r'\\w{' + str(count) + r',}'\n",
    "    return re.findall(regex, string)\n",
    "\n",
    "find_words(4, \"dog, cat, baby, balloon, me\")"
   ]
  },
  {
   "cell_type": "markdown",
   "metadata": {},
   "source": [
    "***"
   ]
  },
  {
   "cell_type": "markdown",
   "metadata": {},
   "source": [
    "# Sets\n",
    "New terms\n",
    "- __[abc]__ - this is a set of the characters 'a', 'b', and 'c'. It'll match any of those characters, in any order, but only once each.\n",
    "- __[a-z], [A-Z], or [a-zA-Z]__ - ranges that'll match any/all letters in the English alphabet in lowercase, uppercase, or both upper and lowercases.\n",
    "- __[0-9]__ - range that'll match any number from 0 to 9. You can change the ends to restrict the set."
   ]
  },
  {
   "cell_type": "markdown",
   "metadata": {},
   "source": [
    "__Using sets (brackets [ ] ) to define which types of character were looking for (order does not matter) :__ "
   ]
  },
  {
   "cell_type": "code",
   "execution_count": 13,
   "metadata": {},
   "outputs": [
    {
     "name": "stdout",
     "output_type": "stream",
     "text": [
      "['kenneth@teamtreehouse.com', 'dave@teamtreehouse.com', 'king_arthur@camelot.co.uk', 'governor@norrbotten.co.se', 'tim@killerrabbit.com', 'ryan@teamtreehouse.com', 'doctor+companion@tardis.co.uk', 'me@example.com', 'president.44@us.gov', 'andrew@teamtreehouse.com', 'darth-vader@empire.gov', 'mtfvs@spain.gov']\n"
     ]
    }
   ],
   "source": [
    "print(re.findall(r'[-\\w\\d+.]+@[-\\w\\d.]+', data))"
   ]
  },
  {
   "cell_type": "markdown",
   "metadata": {},
   "source": [
    "__Similar to the example above, but this time were searching specifically for '@teamtreehouse.com' :__"
   ]
  },
  {
   "cell_type": "code",
   "execution_count": 14,
   "metadata": {},
   "outputs": [
    {
     "name": "stdout",
     "output_type": "stream",
     "text": [
      "['kenneth@teamtreehouse.com', 'dave@teamtreehouse.com', 'ryan@teamtreehouse.com', 'andrew@teamtreehouse.com']\n"
     ]
    }
   ],
   "source": [
    "print(re.findall(r'[-\\w\\d+.]+@teamtreehouse.com', data))"
   ]
  },
  {
   "cell_type": "markdown",
   "metadata": {},
   "source": [
    "__Searching for a specific word ('Treehouse' in this case) regardless of case :__"
   ]
  },
  {
   "cell_type": "code",
   "execution_count": 15,
   "metadata": {},
   "outputs": [
    {
     "name": "stdout",
     "output_type": "stream",
     "text": [
      "CODE: re.findall(r'\\b[trehous]{9}\\b', data, re.IGNORECASE)\n",
      "* \\b indicates word boundary\n",
      "* [trehous]{9} indicates were looking words that contain those letters and have a length of 9 letters.\n",
      "\n",
      "RETURNED:  ['Treehouse', 'Treehouse', 'Treehouse', 'Treehouse']\n",
      "\n",
      "OR YOU CAN USE THE RE.I SHORTHAND & GET THE SAME RESULT:\n",
      "['Treehouse', 'Treehouse', 'Treehouse', 'Treehouse']\n"
     ]
    }
   ],
   "source": [
    "print(\"CODE: re.findall(r'\\\\b[trehous]{9}\\\\b', data, re.IGNORECASE)\")\n",
    "print('* \\\\b indicates word boundary')\n",
    "print(\"* [trehous]{9} indicates were looking words that contain those letters and have a length of 9 letters.\\n\")\n",
    "print('RETURNED: ', re.findall(r'\\b[trehous]{9}\\b', data, re.IGNORECASE))\n",
    "print('\\nor you can use the re.I shorthand & get the same result:'.upper())\n",
    "print(re.findall(r'\\b[trehous]{9}\\b', data, re.I))"
   ]
  },
  {
   "cell_type": "markdown",
   "metadata": {},
   "source": [
    "***"
   ]
  },
  {
   "cell_type": "markdown",
   "metadata": {},
   "source": [
    "# Negation\n",
    "New terms\n",
    "- __[^abc]__ - a set that will not match, and, in fact, exclude, the letters 'a', 'b', and 'c'.\n",
    "- __re.IGNORECASE or re.I__ - flag to make a search case-insensitive. re.match('A', 'apple', re.I) would find the 'a' in 'apple'.\n",
    "- __re.VERBOSE or re.X__ - flag that allows regular expressions to span multiple lines and contain (ignored) whitespace and comments."
   ]
  },
  {
   "cell_type": "markdown",
   "metadata": {},
   "source": [
    "__Grab all email addresses, ignore .gov :__"
   ]
  },
  {
   "cell_type": "code",
   "execution_count": 16,
   "metadata": {},
   "outputs": [
    {
     "name": "stdout",
     "output_type": "stream",
     "text": [
      "['@teamtreehouse.com', '@teamtreehouse.com', '@camelot.co.uk', '@norrbotten.co.se', '@killerrabbit.com', '@teamtreehouse.com', '@tardis.co.uk', '@example.com', '@us.', '@teamtreehouse.com', '@empire.', '@spain.']\n"
     ]
    }
   ],
   "source": [
    "print(re.findall(r'''\n",
    "    \\b@[-\\w\\d.]*  # word boundary, @ symbol, any num of char.\n",
    "    [^gov\\t]+ # Ignore one or more instances of the letters 'g', 'o', or 'v' and a tab.\n",
    "    \\b # Match another word boundary.\n",
    "''', data, re.VERBOSE|re.I))"
   ]
  },
  {
   "cell_type": "markdown",
   "metadata": {},
   "source": [
    "__Grab anything matching the following pattern \"_word_, _word_\" :__"
   ]
  },
  {
   "cell_type": "code",
   "execution_count": 17,
   "metadata": {},
   "outputs": [
    {
     "name": "stdout",
     "output_type": "stream",
     "text": [
      "['Love, Kenneth', 'Teacher, Treehouse', 'McFarland, Dave', 'Teacher, Treehouse', 'Arthur, King', 'King, Camelot', 'Österberg, Sven-Erik', 'Governor, Norrbotten', 'Enchanter, Killer Rabbit Cave', 'Carson, Ryan', 'CEO, Treehouse', 'Doctor, The', 'Lord, Gallifrey', 'Exampleson, Example', 'Example, Example Co.', 'Obama, Barack', 'President, United States of America', 'Chalkley, Andrew', 'Teacher, Treehouse', 'Vader, Darth', 'Lord, Galactic Empire', 'Sanz, María Teresa', 'Minister, Spanish Govt.']\n"
     ]
    }
   ],
   "source": [
    "print(re.findall(r'''\n",
    "    \\b[-\\w]*,  # Find a word boundary, 1+ hyphens or characters, and a comma\n",
    "    \\s  # Find 1 white space\n",
    "    [-\\w ]+  # 1+ hyphens and characters an explicit spaces\n",
    "    [^\\t\\n]  # Ignore tabs and newlines\n",
    "''', data, re.X))"
   ]
  },
  {
   "cell_type": "markdown",
   "metadata": {},
   "source": [
    "***"
   ]
  },
  {
   "cell_type": "markdown",
   "metadata": {},
   "source": [
    "# Groups\n",
    "New terms\n",
    "\n",
    "- __([abc])__ - creates a group that contains a set for the letters 'a', 'b', and 'c'. This could be later accessed from the Match object as .group(1)\n",
    "- __(?P<name>[abc])__ - creates a named group that contains a set for the letters 'a', 'b', and 'c'. This could later be accessed from the Match object as .group('name').\n",
    "- __.groups()__ - method to show all of the groups on a Match object.\n",
    "- __re.MULTILINE or re.M__ - flag to make a pattern regard lines in your text as the beginning or end of a string.\n",
    "    - The re.MULTILINE flag allows newlines to be treated as individual strings?\n",
    "- __^__ - specifies, in a pattern, the beginning of the string.\n",
    "- __$__ - specifies, in a pattern, the end of the string."
   ]
  },
  {
   "cell_type": "markdown",
   "metadata": {},
   "source": [
    "__Using groups to collect specific pieces of information in a single regex :__"
   ]
  },
  {
   "cell_type": "code",
   "execution_count": 18,
   "metadata": {},
   "outputs": [
    {
     "name": "stdout",
     "output_type": "stream",
     "text": [
      "[('Love, Kenneth', 'kenneth@teamtreehouse.com', '(555) 555-5555', 'Teacher, Treehouse\\t', '@kennethlove'), ('McFarland, Dave', 'dave@teamtreehouse.com', '(555) 555-5554', 'Teacher, Treehouse', ''), ('Arthur, King', 'king_arthur@camelot.co.uk', '', 'King, Camelot', ''), ('Österberg, Sven-Erik', 'governor@norrbotten.co.se', '', 'Governor, Norrbotten\\t', '@sverik'), (', Tim', 'tim@killerrabbit.com', '', 'Enchanter, Killer Rabbit Cave', ''), ('Carson, Ryan', 'ryan@teamtreehouse.com', '(555) 555-5543', 'CEO, Treehouse\\t', '@ryancarson'), ('Doctor, The', 'doctor+companion@tardis.co.uk', '', 'Time Lord, Gallifrey', ''), ('Exampleson, Example', 'me@example.com', '555-555-5552', 'Example, Example Co.\\t', '@example'), ('Obama, Barack', 'president.44@us.gov', '555 555-5551', 'President, United States of America\\t', '@potus44'), ('Chalkley, Andrew', 'andrew@teamtreehouse.com', '(555) 555-5553', 'Teacher, Treehouse\\t', '@chalkers'), ('Vader, Darth', 'darth-vader@empire.gov', '(555) 555-4444', 'Sith Lord, Galactic Empire\\t', '@darthvader'), ('Fernández de la Vega Sanz, María Teresa', 'mtfvs@spain.gov', '', 'First Deputy Prime Minister, Spanish Govt.', '')]\n"
     ]
    }
   ],
   "source": [
    "print(re.findall(r'''\n",
    "    ^(?P<name>[-\\w ]*,\\s[-\\w ]+)\\t  # first and last name.\n",
    "    (?P<email>[-\\w\\d.+]+@[-\\w\\d.]+)\\t  # Email\n",
    "    (?P<phone>\\(?\\d{3}\\)?-?\\s?\\d{3}-\\d{4})?\\t  # Phone\n",
    "    (?P<job>[\\w\\s]+,\\s[\\w\\s.]+)\\t?  # Job and company\n",
    "    (?P<twitter>@[\\w\\d]+)?$  # Twitter\n",
    "''', data, re.X|re.M))"
   ]
  },
  {
   "cell_type": "markdown",
   "metadata": {},
   "source": [
    "__Creating a Dict with groups :__"
   ]
  },
  {
   "cell_type": "code",
   "execution_count": 19,
   "metadata": {},
   "outputs": [
    {
     "name": "stdout",
     "output_type": "stream",
     "text": [
      "<_sre.SRE_Match object; span=(0, 86), match='Love, Kenneth\\tkenneth@teamtreehouse.com\\t(555) 5> \n",
      "\n",
      "{'name': 'Love, Kenneth', 'email': 'kenneth@teamtreehouse.com', 'phone': '(555) 555-5555', 'job': 'Teacher, Treehouse\\t', 'twitter': '@kennethlove'}\n"
     ]
    }
   ],
   "source": [
    "line = re.search(r'''\n",
    "    ^(?P<name>[-\\w ]*,\\s[-\\w ]+)\\t  # first and last name.\n",
    "    (?P<email>[-\\w\\d.+]+@[-\\w\\d.]+)\\t  # Email\n",
    "    (?P<phone>\\(?\\d{3}\\)?-?\\s?\\d{3}-\\d{4})?\\t  # Phone\n",
    "    (?P<job>[\\w\\s]+,\\s[\\w\\s.]+)\\t?  # Job and company\n",
    "    (?P<twitter>@[\\w\\d]+)?$  # Twitter\n",
    "''', data, re.X|re.M)\n",
    "\n",
    "print(line,'\\n')\n",
    "print(line.groupdict())"
   ]
  },
  {
   "cell_type": "markdown",
   "metadata": {},
   "source": [
    "## Code Challenge\n",
    "Create a variable names that is an re.match() against string. The pattern should provide two groups, one for a last name match and one for a first name match. The name parts are separated by a comma and a space."
   ]
  },
  {
   "cell_type": "code",
   "execution_count": 20,
   "metadata": {},
   "outputs": [
    {
     "name": "stdout",
     "output_type": "stream",
     "text": [
      "('Perotto', 'Pier Giorgio')\n"
     ]
    }
   ],
   "source": [
    "import re\n",
    "\n",
    "string = 'Perotto, Pier Giorgio'\n",
    "\n",
    "names = re.match(r'''\n",
    "        ([\\w]+),\\s\n",
    "        ([\\s\\w]+)\n",
    "        ''', string, re.X)\n",
    "\n",
    "print(names.groups())"
   ]
  },
  {
   "cell_type": "markdown",
   "metadata": {},
   "source": [
    "## Code Challenge\n",
    "Challenge Task 1 of 2\n",
    "\n",
    "Create a new variable named contacts that is an re.search() where the pattern catches the email address and phone number from string. Name the email pattern email and the phone number pattern phone. The comma and spaces * should not* be part of the groups."
   ]
  },
  {
   "cell_type": "code",
   "execution_count": 21,
   "metadata": {},
   "outputs": [
    {
     "name": "stdout",
     "output_type": "stream",
     "text": [
      "('kenneth+challenge@teamtreehouse.com', '555-555-5555')\n"
     ]
    }
   ],
   "source": [
    "import re\n",
    "\n",
    "string = '''Love, Kenneth, kenneth+challenge@teamtreehouse.com, 555-555-5555, @kennethlove\n",
    "Chalkley, Andrew, andrew@teamtreehouse.co.uk, 555-555-5556, @chalkers\n",
    "McFarland, Dave, dave.mcfarland@teamtreehouse.com, 555-555-5557, @davemcfarland\n",
    "Kesten, Joy, joy@teamtreehouse.com, 555-555-5558, @joykesten'''\n",
    "\n",
    "contacts = re.search(r'''\n",
    "        (?P<email>[\\w.+]*@[\\w.]+),\\s\n",
    "        (?P<phone>\\d{3}-\\d{3}-\\d{4})\n",
    "''', string, re.X)\n",
    "print(contacts.groups())"
   ]
  },
  {
   "cell_type": "markdown",
   "metadata": {},
   "source": [
    "Challenge Task 2 of 2\n",
    "\n",
    "Great! Now, make a new variable, twitters that is an re.search() where the pattern catches the Twitter handle for a person. Remember to mark it as being at the end of the string. You'll also want to use the re.MULTILINE flag."
   ]
  },
  {
   "cell_type": "code",
   "execution_count": 31,
   "metadata": {},
   "outputs": [
    {
     "name": "stdout",
     "output_type": "stream",
     "text": [
      "<_sre.SRE_Match object; span=(66, 78), match='@kennethlove'>\n"
     ]
    }
   ],
   "source": [
    "twitters = re.search(r'''\n",
    "    ([@\\w]+)$\n",
    "''', string, re.X|re.M)\n",
    "\n",
    "print(twitters)"
   ]
  },
  {
   "cell_type": "markdown",
   "metadata": {},
   "source": [
    "***"
   ]
  },
  {
   "cell_type": "markdown",
   "metadata": {},
   "source": [
    "# Compiling and Loops\n",
    "New terms\n",
    "\n",
    "- __re.compile(pattern, flags)__ - method to pre-compile and save a regular expression pattern, and any associated flags, for later use.\n",
    "- __.groupdict()__ - method to generate a dictionary from a Match object's groups. The keys will be the group names. The values will be the results of the patterns in the group.\n",
    "- __re.finditer()__ - method to generate an iterable from the non-overlapping matches of a regular expression. Very handy for for loops.\n",
    "    - Gives us an iterable full of match objects essentially.\n",
    "- __.group()__ - method to access the content of a group. 0 or none is the entire match. 1 through how ever many groups you have will get that group. Or use a group's name to get it if you're using named groups.\n",
    "\n",
    "Why would you want to compile a pattern?\n",
    "- It is going to be used multiple times\n",
    "- I want to be able to pass it to functions\n",
    "- I want to be able to use it directly\n",
    "- I want to provide multiple patterns as part of a library"
   ]
  },
  {
   "cell_type": "markdown",
   "metadata": {},
   "source": [
    "__Using re.compile to preserve a regex to be used later with different inputs :__"
   ]
  },
  {
   "cell_type": "code",
   "execution_count": 38,
   "metadata": {},
   "outputs": [
    {
     "name": "stdout",
     "output_type": "stream",
     "text": [
      "{'name': 'Love, Kenneth', 'last': 'Love', 'first': 'Kenneth', 'email': 'kenneth@teamtreehouse.com', 'phone': '(555) 555-5555', 'job': 'Teacher, Treehouse\\t', 'twitter': '@kennethlove'} \n",
      "\n",
      "{'name': 'Love, Kenneth', 'last': 'Love', 'first': 'Kenneth', 'email': 'kenneth@teamtreehouse.com', 'phone': '(555) 555-5555', 'job': 'Teacher, Treehouse\\t', 'twitter': '@kennethlove'}\n"
     ]
    }
   ],
   "source": [
    "line = re.compile(r'''\n",
    "    ^(?P<name>(?P<last>[-\\w ]*),\\s(?P<first>[-\\w ]+))\\t  # first and last name.\n",
    "    (?P<email>[-\\w\\d.+]+@[-\\w\\d.]+)\\t  # Email\n",
    "    (?P<phone>\\(?\\d{3}\\)?-?\\s?\\d{3}-\\d{4})?\\t  # Phone\n",
    "    (?P<job>[\\w\\s]+,\\s[\\w\\s.]+)\\t?  # Job and company\n",
    "    (?P<twitter>@[\\w\\d]+)?$  # Twitter\n",
    "''', re.X|re.M)\n",
    "\n",
    "print(re.search(line, data).groupdict(), '\\n')\n",
    "print(line.search(data).groupdict())"
   ]
  },
  {
   "cell_type": "markdown",
   "metadata": {},
   "source": [
    "__Example of using subgroups (check out previous example for actual subgroups) :__"
   ]
  },
  {
   "cell_type": "code",
   "execution_count": 37,
   "metadata": {},
   "outputs": [
    {
     "name": "stdout",
     "output_type": "stream",
     "text": [
      "Love, Kenneth\n",
      "McFarland, Dave\n",
      "Arthur, King\n",
      "Österberg, Sven-Erik\n",
      ", Tim\n",
      "Carson, Ryan\n",
      "Doctor, The\n",
      "Exampleson, Example\n",
      "Obama, Barack\n",
      "Chalkley, Andrew\n",
      "Vader, Darth\n",
      "Fernández de la Vega Sanz, María Teresa\n"
     ]
    }
   ],
   "source": [
    "for match in line.finditer(data):\n",
    "    print(match.group('name'))"
   ]
  },
  {
   "cell_type": "markdown",
   "metadata": {},
   "source": [
    "__Using groupdict alongside subgroups :__"
   ]
  },
  {
   "cell_type": "code",
   "execution_count": 40,
   "metadata": {},
   "outputs": [
    {
     "name": "stdout",
     "output_type": "stream",
     "text": [
      "Kenneth Love <kenneth@teamtreehouse.com>\n",
      "Dave McFarland <dave@teamtreehouse.com>\n",
      "King Arthur <king_arthur@camelot.co.uk>\n",
      "Sven-Erik Österberg <governor@norrbotten.co.se>\n",
      "Tim  <tim@killerrabbit.com>\n",
      "Ryan Carson <ryan@teamtreehouse.com>\n",
      "The Doctor <doctor+companion@tardis.co.uk>\n",
      "Example Exampleson <me@example.com>\n",
      "Barack Obama <president.44@us.gov>\n",
      "Andrew Chalkley <andrew@teamtreehouse.com>\n",
      "Darth Vader <darth-vader@empire.gov>\n",
      "María Teresa Fernández de la Vega Sanz <mtfvs@spain.gov>\n"
     ]
    }
   ],
   "source": [
    "for match in line.finditer(data):\n",
    "    print('{first} {last} <{email}>'.format(**match.groupdict()))"
   ]
  },
  {
   "cell_type": "markdown",
   "metadata": {},
   "source": [
    "## Code Challenge\n",
    "Challenge Task 1 of 2\n",
    "\n",
    "Create a variable named players that is an re.search() or re.match() to capture three groups: last_name, first_name, and score. It should include re.MULTILINE."
   ]
  },
  {
   "cell_type": "code",
   "execution_count": 48,
   "metadata": {},
   "outputs": [
    {
     "name": "stdout",
     "output_type": "stream",
     "text": [
      "<_sre.SRE_Match object; span=(1, 18), match='Love, Kenneth: 20'>\n"
     ]
    }
   ],
   "source": [
    "import re\n",
    "\n",
    "string = '''\n",
    "Love, Kenneth: 20\n",
    "Chalkley, Andrew: 25\n",
    "McFarland, Dave: 10\n",
    "Kesten, Joy: 22\n",
    "Stewart Pinchback, Pinckney Benton: 18'''\n",
    "\n",
    "players = re.search(r'''\n",
    "        ^(?P<last_name>[\\w]+\\s?[\\w]*),\n",
    "        \\s(?P<first_name>[\\w]+\\s?[\\w]*):\n",
    "        \\s(?P<score>[\\d]+)$\n",
    "''', string, re.X|re.M)\n",
    "\n",
    "print(players)"
   ]
  },
  {
   "cell_type": "markdown",
   "metadata": {
    "collapsed": true
   },
   "source": [
    "Challenge Task 2 of 2\n",
    "\n",
    "Wow! OK, now, create a class named Player that has those same three attributes, last_name, first_name, and score. I should be able to set them through ```__init__.```"
   ]
  },
  {
   "cell_type": "code",
   "execution_count": 49,
   "metadata": {
    "collapsed": true
   },
   "outputs": [],
   "source": [
    "class Player:\n",
    "    def __init__(self, last_name, first_name, score):\n",
    "        self.last_name = last_name\n",
    "        self.first_name = first_name\n",
    "        self.score = score"
   ]
  },
  {
   "cell_type": "markdown",
   "metadata": {},
   "source": [
    "***"
   ]
  },
  {
   "cell_type": "markdown",
   "metadata": {},
   "source": [
    "Extra Credit\n",
    "\n",
    "Write a class to represent a person based on the information in the text file. They should have names, email addresses, phone numbers, jobs, and Twitter accounts. Remember, some of these can be blank, though!\n",
    "\n",
    "To go ever further, make a class to act as as address book to hold all of the people class instances created above. Can you make it searchable?"
   ]
  },
  {
   "cell_type": "code",
   "execution_count": null,
   "metadata": {
    "collapsed": true
   },
   "outputs": [],
   "source": []
  }
 ],
 "metadata": {
  "kernelspec": {
   "display_name": "Python 3",
   "language": "python",
   "name": "python3"
  },
  "language_info": {
   "codemirror_mode": {
    "name": "ipython",
    "version": 3
   },
   "file_extension": ".py",
   "mimetype": "text/x-python",
   "name": "python",
   "nbconvert_exporter": "python",
   "pygments_lexer": "ipython3",
   "version": "3.6.1"
  }
 },
 "nbformat": 4,
 "nbformat_minor": 2
}
